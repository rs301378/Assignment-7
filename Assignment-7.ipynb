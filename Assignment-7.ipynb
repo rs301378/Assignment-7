{
 "cells": [
  {
   "cell_type": "markdown",
   "metadata": {},
   "source": [
    "<b>Write a function so that the columns of the output matrix are powers of the input vector. The order of the powers is determined by the increasing boolean argument. Specifically, whenincreasing is False, the i-th output column is the input vector raised element-wise to the power\n",
    "of N - i - 1.<br>\n",
    "\n",
    "HINT : Such a matrix with a geometric progression in each row is named for Alexandre-Theophile Vandermonde.<br><br>\n",
    "\n",
    "Problem Statement 2 :</b><br>\n",
    "Given a sequence of n values x1, x2, ..., xn and a window size k>0, the k-th moving average of the given sequence is defined as follows :<br>\n",
    "The moving average sequence has n-k+1 elements as shown below.<br>\n",
    "The moving averages with k=4 of a ten-value sequence (n=10) is shown below<br>\n",
    "i 1 2 3 4 5 6 7 8 9 10<br>\n",
    "===== == == == == == == == == == ==<br>\n",
    "Input 10 20 30 40 50 60 70 80 90 100<br>\n",
    "y1 25 = (10+20+30+40)/4<br>\n",
    "y2 35 = (20+30+40+50)/4<br>\n",
    "y3 45 = (30+40+50+60)/4<br>\n",
    "y4 55 = (40+50+60+70)/4<br>\n",
    "y5 65 = (50+60+70+80)/4<br>\n",
    "y6 75 = (60+70+80+90)/4<br>\n",
    "y7 85 = (70+80+90+100)/4<br>\n",
    "Thus, the moving average sequence has n-k+1=10-4+1=7 values."
   ]
  },
  {
   "cell_type": "markdown",
   "metadata": {},
   "source": [
    "<b>Question:</b> Write a function to find moving average in an array over a window:<br>\n",
    "Test it over [3, 5, 7, 2, 8, 10, 11, 65, 72, 81, 99, 100, 150] and window of 3."
   ]
  },
  {
   "cell_type": "code",
   "execution_count": 19,
   "metadata": {},
   "outputs": [
    {
     "name": "stdout",
     "output_type": "stream",
     "text": [
      "Moving average sequwnce value is: 11\n",
      "[array([  5.        ,   4.66666667,   5.66666667,   6.66666667,\n",
      "         9.66666667,  28.66666667,  49.33333333,  72.66666667,\n",
      "        84.        ,  93.33333333, 116.33333333])]\n"
     ]
    }
   ],
   "source": [
    "import numpy as np\n",
    "\n",
    "def moving_avg(my_list, N):\n",
    "    moving_avg_array = np.copy(my_list[0:len(my_list) - N+1]).astype(\"float\")\n",
    "    count = 0\n",
    "    for i in range(len(my_list)- N+1):\n",
    "        average = 0.0\n",
    "        for j in range(N):\n",
    "            if(j == window_size - 1):\n",
    "                average = (average + my_list[i+j])/3\n",
    "                moving_avg_array[i] = average\n",
    "                count = count + 1\n",
    "                moving_avg_array[i] = average\n",
    "            else:\n",
    "                average =  average + my_list[i+j]\n",
    "    return count, moving_avg_array\n",
    "\n",
    "my_list = np.array([3, 5, 7, 2, 8, 10, 11, 65, 72, 81, 99, 100, 150])\n",
    "N = 3\n",
    "count, moving_avg_array = moving_avg(my_list, N)\n",
    "print(\"Moving average sequwnce value is: \" +str(count))\n",
    "print([mov_avg_array])"
   ]
  }
 ],
 "metadata": {
  "kernelspec": {
   "display_name": "Python 3",
   "language": "python",
   "name": "python3"
  },
  "language_info": {
   "codemirror_mode": {
    "name": "ipython",
    "version": 3
   },
   "file_extension": ".py",
   "mimetype": "text/x-python",
   "name": "python",
   "nbconvert_exporter": "python",
   "pygments_lexer": "ipython3",
   "version": "3.7.1"
  }
 },
 "nbformat": 4,
 "nbformat_minor": 4
}
